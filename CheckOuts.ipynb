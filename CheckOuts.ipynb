{
 "cells": [
  {
   "cell_type": "code",
   "execution_count": 2,
   "metadata": {},
   "outputs": [
    {
     "name": "stdout",
     "output_type": "stream",
     "text": [
      "_________________________________________________________________\n",
      "Layer (type)                 Output Shape              Param #   \n",
      "=================================================================\n",
      "input_1 (InputLayer)         (None, None, None, 3)     0         \n",
      "_________________________________________________________________\n",
      "block1_conv1 (Conv2D)        (None, None, None, 64)    1792      \n",
      "_________________________________________________________________\n",
      "block1_conv2 (Conv2D)        (None, None, None, 64)    36928     \n",
      "_________________________________________________________________\n",
      "block1_pool (MaxPooling2D)   (None, None, None, 64)    0         \n",
      "_________________________________________________________________\n",
      "block2_conv1 (Conv2D)        (None, None, None, 128)   73856     \n",
      "_________________________________________________________________\n",
      "block2_conv2 (Conv2D)        (None, None, None, 128)   147584    \n",
      "_________________________________________________________________\n",
      "block2_pool (MaxPooling2D)   (None, None, None, 128)   0         \n",
      "_________________________________________________________________\n",
      "block3_conv1 (Conv2D)        (None, None, None, 256)   295168    \n",
      "_________________________________________________________________\n",
      "block3_conv2 (Conv2D)        (None, None, None, 256)   590080    \n",
      "_________________________________________________________________\n",
      "block3_conv3 (Conv2D)        (None, None, None, 256)   590080    \n",
      "_________________________________________________________________\n",
      "block3_pool (MaxPooling2D)   (None, None, None, 256)   0         \n",
      "_________________________________________________________________\n",
      "block4_conv1 (Conv2D)        (None, None, None, 512)   1180160   \n",
      "_________________________________________________________________\n",
      "block4_conv2 (Conv2D)        (None, None, None, 512)   2359808   \n",
      "_________________________________________________________________\n",
      "block4_conv3 (Conv2D)        (None, None, None, 512)   2359808   \n",
      "_________________________________________________________________\n",
      "block4_pool (MaxPooling2D)   (None, None, None, 512)   0         \n",
      "_________________________________________________________________\n",
      "block5_conv1 (Conv2D)        (None, None, None, 512)   2359808   \n",
      "_________________________________________________________________\n",
      "block5_conv2 (Conv2D)        (None, None, None, 512)   2359808   \n",
      "_________________________________________________________________\n",
      "block5_conv3 (Conv2D)        (None, None, None, 512)   2359808   \n",
      "_________________________________________________________________\n",
      "block5_pool (MaxPooling2D)   (None, None, None, 512)   0         \n",
      "=================================================================\n",
      "Total params: 14,714,688\n",
      "Trainable params: 14,714,688\n",
      "Non-trainable params: 0\n",
      "_________________________________________________________________\n",
      "None\n"
     ]
    }
   ],
   "source": [
    "from keras.applications.vgg16 import VGG16\n",
    "model = VGG16(include_top = False, weights = 'imagenet')\n",
    "print(model.summary())\n"
   ]
  },
  {
   "cell_type": "code",
   "execution_count": 4,
   "metadata": {},
   "outputs": [
    {
     "name": "stdout",
     "output_type": "stream",
     "text": [
      "_________________________________________________________________\n",
      "Layer (type)                 Output Shape              Param #   \n",
      "=================================================================\n",
      "input_2 (InputLayer)         (None, 224, 224, 3)       0         \n",
      "_________________________________________________________________\n",
      "block1_conv1 (Conv2D)        (None, 224, 224, 64)      1792      \n",
      "_________________________________________________________________\n",
      "block1_conv2 (Conv2D)        (None, 224, 224, 64)      36928     \n",
      "_________________________________________________________________\n",
      "block1_pool (MaxPooling2D)   (None, 112, 112, 64)      0         \n",
      "_________________________________________________________________\n",
      "block2_conv1 (Conv2D)        (None, 112, 112, 128)     73856     \n",
      "_________________________________________________________________\n",
      "block2_conv2 (Conv2D)        (None, 112, 112, 128)     147584    \n",
      "_________________________________________________________________\n",
      "block2_pool (MaxPooling2D)   (None, 56, 56, 128)       0         \n",
      "_________________________________________________________________\n",
      "block3_conv1 (Conv2D)        (None, 56, 56, 256)       295168    \n",
      "_________________________________________________________________\n",
      "block3_conv2 (Conv2D)        (None, 56, 56, 256)       590080    \n",
      "_________________________________________________________________\n",
      "block3_conv3 (Conv2D)        (None, 56, 56, 256)       590080    \n",
      "_________________________________________________________________\n",
      "block3_pool (MaxPooling2D)   (None, 28, 28, 256)       0         \n",
      "_________________________________________________________________\n",
      "block4_conv1 (Conv2D)        (None, 28, 28, 512)       1180160   \n",
      "_________________________________________________________________\n",
      "block4_conv2 (Conv2D)        (None, 28, 28, 512)       2359808   \n",
      "_________________________________________________________________\n",
      "block4_conv3 (Conv2D)        (None, 28, 28, 512)       2359808   \n",
      "_________________________________________________________________\n",
      "block4_pool (MaxPooling2D)   (None, 14, 14, 512)       0         \n",
      "_________________________________________________________________\n",
      "block5_conv1 (Conv2D)        (None, 14, 14, 512)       2359808   \n",
      "_________________________________________________________________\n",
      "block5_conv2 (Conv2D)        (None, 14, 14, 512)       2359808   \n",
      "_________________________________________________________________\n",
      "block5_conv3 (Conv2D)        (None, 14, 14, 512)       2359808   \n",
      "_________________________________________________________________\n",
      "block5_pool (MaxPooling2D)   (None, 7, 7, 512)         0         \n",
      "_________________________________________________________________\n",
      "flatten (Flatten)            (None, 25088)             0         \n",
      "_________________________________________________________________\n",
      "fc1 (Dense)                  (None, 4096)              102764544 \n",
      "_________________________________________________________________\n",
      "fc2 (Dense)                  (None, 4096)              16781312  \n",
      "_________________________________________________________________\n",
      "predictions (Dense)          (None, 1000)              4097000   \n",
      "=================================================================\n",
      "Total params: 138,357,544\n",
      "Trainable params: 138,357,544\n",
      "Non-trainable params: 0\n",
      "_________________________________________________________________\n",
      "None\n"
     ]
    }
   ],
   "source": [
    "model = VGG16(include_top = True, weights = 'imagenet',classes = 1000)\n",
    "print(model.summary())"
   ]
  },
  {
   "cell_type": "code",
   "execution_count": 9,
   "metadata": {},
   "outputs": [
    {
     "ename": "ImportError",
     "evalue": "Could not import PIL.Image. The use of `array_to_img` requires PIL.",
     "output_type": "error",
     "traceback": [
      "\u001b[1;31m---------------------------------------------------------------------------\u001b[0m",
      "\u001b[1;31mImportError\u001b[0m                               Traceback (most recent call last)",
      "\u001b[1;32m<ipython-input-9-9452c5778439>\u001b[0m in \u001b[0;36m<module>\u001b[1;34m\u001b[0m\n\u001b[0;32m      2\u001b[0m \u001b[1;32mimport\u001b[0m \u001b[0mnumpy\u001b[0m \u001b[1;32mas\u001b[0m \u001b[0mnp\u001b[0m\u001b[1;33m\u001b[0m\u001b[1;33m\u001b[0m\u001b[0m\n\u001b[0;32m      3\u001b[0m \u001b[0mimg_path\u001b[0m \u001b[1;33m=\u001b[0m \u001b[1;34m'C:/Users/Nagaraj G/Desktop/DR_Reference/data/sample/10_left.jpeg'\u001b[0m\u001b[1;33m\u001b[0m\u001b[1;33m\u001b[0m\u001b[0m\n\u001b[1;32m----> 4\u001b[1;33m \u001b[0mimg\u001b[0m \u001b[1;33m=\u001b[0m \u001b[0mimage\u001b[0m\u001b[1;33m.\u001b[0m\u001b[0mload_img\u001b[0m\u001b[1;33m(\u001b[0m\u001b[0mimg_path\u001b[0m\u001b[1;33m,\u001b[0m \u001b[0mtarget_size\u001b[0m\u001b[1;33m=\u001b[0m\u001b[1;33m(\u001b[0m\u001b[1;36m224\u001b[0m\u001b[1;33m,\u001b[0m \u001b[1;36m224\u001b[0m\u001b[1;33m)\u001b[0m\u001b[1;33m)\u001b[0m\u001b[1;33m\u001b[0m\u001b[1;33m\u001b[0m\u001b[0m\n\u001b[0m\u001b[0;32m      5\u001b[0m \u001b[0mx\u001b[0m \u001b[1;33m=\u001b[0m \u001b[0mnp\u001b[0m\u001b[1;33m.\u001b[0m\u001b[0marray\u001b[0m\u001b[1;33m(\u001b[0m\u001b[0mimg\u001b[0m\u001b[1;33m)\u001b[0m\u001b[1;33m\u001b[0m\u001b[1;33m\u001b[0m\u001b[0m\n\u001b[0;32m      6\u001b[0m \u001b[0mx\u001b[0m \u001b[1;33m=\u001b[0m \u001b[0mnp\u001b[0m\u001b[1;33m.\u001b[0m\u001b[0mexpand_dims\u001b[0m\u001b[1;33m(\u001b[0m\u001b[0mx\u001b[0m\u001b[1;33m,\u001b[0m \u001b[0maxis\u001b[0m\u001b[1;33m=\u001b[0m\u001b[1;36m0\u001b[0m\u001b[1;33m)\u001b[0m\u001b[1;33m\u001b[0m\u001b[1;33m\u001b[0m\u001b[0m\n",
      "\u001b[1;32mC:\\Anaconda3\\envs\\tensorflow\\lib\\site-packages\\keras_preprocessing\\image.py\u001b[0m in \u001b[0;36mload_img\u001b[1;34m(path, grayscale, color_mode, target_size, interpolation)\u001b[0m\n\u001b[0;32m    494\u001b[0m         \u001b[0mcolor_mode\u001b[0m \u001b[1;33m=\u001b[0m \u001b[1;34m'grayscale'\u001b[0m\u001b[1;33m\u001b[0m\u001b[1;33m\u001b[0m\u001b[0m\n\u001b[0;32m    495\u001b[0m     \u001b[1;32mif\u001b[0m \u001b[0mpil_image\u001b[0m \u001b[1;32mis\u001b[0m \u001b[1;32mNone\u001b[0m\u001b[1;33m:\u001b[0m\u001b[1;33m\u001b[0m\u001b[1;33m\u001b[0m\u001b[0m\n\u001b[1;32m--> 496\u001b[1;33m         raise ImportError('Could not import PIL.Image. '\n\u001b[0m\u001b[0;32m    497\u001b[0m                           'The use of `array_to_img` requires PIL.')\n\u001b[0;32m    498\u001b[0m     \u001b[0mimg\u001b[0m \u001b[1;33m=\u001b[0m \u001b[0mpil_image\u001b[0m\u001b[1;33m.\u001b[0m\u001b[0mopen\u001b[0m\u001b[1;33m(\u001b[0m\u001b[0mpath\u001b[0m\u001b[1;33m)\u001b[0m\u001b[1;33m\u001b[0m\u001b[1;33m\u001b[0m\u001b[0m\n",
      "\u001b[1;31mImportError\u001b[0m: Could not import PIL.Image. The use of `array_to_img` requires PIL."
     ]
    }
   ],
   "source": [
    "from keras.preprocessing import image\n",
    "import numpy as np\n",
    "img_path = 'C:/Users/Nagaraj G/Desktop/DR_Reference/data/sample/10_left.jpeg'\n",
    "img = image.load_img(img_path, target_size=(224, 224))\n",
    "x = np.array(img)\n",
    "x = np.expand_dims(x, axis=0)\n",
    "x = preprocess_input(x)\n",
    "\n",
    "print(model.predict(x))"
   ]
  },
  {
   "cell_type": "code",
   "execution_count": 10,
   "metadata": {},
   "outputs": [
    {
     "name": "stdout",
     "output_type": "stream",
     "text": [
      "ll\n"
     ]
    }
   ],
   "source": [
    "k = \"ll\"\n",
    "print(k)"
   ]
  },
  {
   "cell_type": "code",
   "execution_count": 18,
   "metadata": {},
   "outputs": [
    {
     "ename": "ImportError",
     "evalue": "Could not import PIL.Image. The use of `array_to_img` requires PIL.",
     "output_type": "error",
     "traceback": [
      "\u001b[1;31m---------------------------------------------------------------------------\u001b[0m",
      "\u001b[1;31mImportError\u001b[0m                               Traceback (most recent call last)",
      "\u001b[1;32m<ipython-input-18-bbb930c676de>\u001b[0m in \u001b[0;36m<module>\u001b[1;34m\u001b[0m\n\u001b[0;32m      3\u001b[0m \u001b[1;32mimport\u001b[0m \u001b[0mnumpy\u001b[0m \u001b[1;32mas\u001b[0m \u001b[0mnp\u001b[0m\u001b[1;33m\u001b[0m\u001b[1;33m\u001b[0m\u001b[0m\n\u001b[0;32m      4\u001b[0m \u001b[0mimg_path\u001b[0m \u001b[1;33m=\u001b[0m \u001b[1;34m'C:/Users/Nagaraj G/Desktop/DR_Reference/data/sample/10_left.jpeg'\u001b[0m\u001b[1;33m\u001b[0m\u001b[1;33m\u001b[0m\u001b[0m\n\u001b[1;32m----> 5\u001b[1;33m \u001b[0mimg\u001b[0m \u001b[1;33m=\u001b[0m \u001b[0mimage\u001b[0m\u001b[1;33m.\u001b[0m\u001b[0mload_img\u001b[0m\u001b[1;33m(\u001b[0m\u001b[0mimg_path\u001b[0m\u001b[1;33m,\u001b[0m \u001b[0mtarget_size\u001b[0m\u001b[1;33m=\u001b[0m\u001b[1;33m(\u001b[0m\u001b[1;36m224\u001b[0m\u001b[1;33m,\u001b[0m \u001b[1;36m224\u001b[0m\u001b[1;33m)\u001b[0m\u001b[1;33m)\u001b[0m\u001b[1;33m\u001b[0m\u001b[1;33m\u001b[0m\u001b[0m\n\u001b[0m\u001b[0;32m      6\u001b[0m \u001b[0mx\u001b[0m \u001b[1;33m=\u001b[0m \u001b[0mimage\u001b[0m\u001b[1;33m.\u001b[0m\u001b[0mimg_to_array\u001b[0m\u001b[1;33m(\u001b[0m\u001b[0mimg\u001b[0m\u001b[1;33m)\u001b[0m\u001b[1;33m\u001b[0m\u001b[1;33m\u001b[0m\u001b[0m\n\u001b[0;32m      7\u001b[0m \u001b[0mx\u001b[0m \u001b[1;33m=\u001b[0m \u001b[0mnp\u001b[0m\u001b[1;33m.\u001b[0m\u001b[0mexpand_dims\u001b[0m\u001b[1;33m(\u001b[0m\u001b[0mx\u001b[0m\u001b[1;33m,\u001b[0m \u001b[0maxis\u001b[0m\u001b[1;33m=\u001b[0m\u001b[1;36m0\u001b[0m\u001b[1;33m)\u001b[0m\u001b[1;33m\u001b[0m\u001b[1;33m\u001b[0m\u001b[0m\n",
      "\u001b[1;32mC:\\Anaconda3\\envs\\tensorflow\\lib\\site-packages\\keras_preprocessing\\image.py\u001b[0m in \u001b[0;36mload_img\u001b[1;34m(path, grayscale, color_mode, target_size, interpolation)\u001b[0m\n\u001b[0;32m    494\u001b[0m         \u001b[0mcolor_mode\u001b[0m \u001b[1;33m=\u001b[0m \u001b[1;34m'grayscale'\u001b[0m\u001b[1;33m\u001b[0m\u001b[1;33m\u001b[0m\u001b[0m\n\u001b[0;32m    495\u001b[0m     \u001b[1;32mif\u001b[0m \u001b[0mpil_image\u001b[0m \u001b[1;32mis\u001b[0m \u001b[1;32mNone\u001b[0m\u001b[1;33m:\u001b[0m\u001b[1;33m\u001b[0m\u001b[1;33m\u001b[0m\u001b[0m\n\u001b[1;32m--> 496\u001b[1;33m         raise ImportError('Could not import PIL.Image. '\n\u001b[0m\u001b[0;32m    497\u001b[0m                           'The use of `array_to_img` requires PIL.')\n\u001b[0;32m    498\u001b[0m     \u001b[0mimg\u001b[0m \u001b[1;33m=\u001b[0m \u001b[0mpil_image\u001b[0m\u001b[1;33m.\u001b[0m\u001b[0mopen\u001b[0m\u001b[1;33m(\u001b[0m\u001b[0mpath\u001b[0m\u001b[1;33m)\u001b[0m\u001b[1;33m\u001b[0m\u001b[1;33m\u001b[0m\u001b[0m\n",
      "\u001b[1;31mImportError\u001b[0m: Could not import PIL.Image. The use of `array_to_img` requires PIL."
     ]
    }
   ],
   "source": [
    "from keras.preprocessing import image\n",
    "from keras.applications.vgg16 import preprocess_input\n",
    "import numpy as np\n",
    "img_path = 'C:/Users/Nagaraj G/Desktop/DR_Reference/data/sample/10_left.jpeg'\n",
    "img = image.load_img(img_path, target_size=(224, 224))\n",
    "x = image.img_to_array(img)\n",
    "x = np.expand_dims(x, axis=0)\n",
    "x = preprocess_input(x)\n",
    "\n",
    "print(model.predict(x))"
   ]
  },
  {
   "cell_type": "code",
   "execution_count": 17,
   "metadata": {},
   "outputs": [],
   "source": [
    "import PIL"
   ]
  },
  {
   "cell_type": "code",
   "execution_count": 20,
   "metadata": {},
   "outputs": [
    {
     "ename": "ImportError",
     "evalue": "Could not import PIL.Image. The use of `array_to_img` requires PIL.",
     "output_type": "error",
     "traceback": [
      "\u001b[1;31m---------------------------------------------------------------------------\u001b[0m",
      "\u001b[1;31mImportError\u001b[0m                               Traceback (most recent call last)",
      "\u001b[1;32m<ipython-input-20-70a614544125>\u001b[0m in \u001b[0;36m<module>\u001b[1;34m\u001b[0m\n\u001b[0;32m      4\u001b[0m \u001b[1;32mfrom\u001b[0m \u001b[0mPIL\u001b[0m \u001b[1;32mimport\u001b[0m \u001b[0mImage\u001b[0m\u001b[1;33m\u001b[0m\u001b[1;33m\u001b[0m\u001b[0m\n\u001b[0;32m      5\u001b[0m \u001b[0mimg_path\u001b[0m \u001b[1;33m=\u001b[0m \u001b[1;34m'C:/Users/Nagaraj G/Desktop/DR_Reference/data/sample/10_left.jpeg'\u001b[0m\u001b[1;33m\u001b[0m\u001b[1;33m\u001b[0m\u001b[0m\n\u001b[1;32m----> 6\u001b[1;33m \u001b[0mimg\u001b[0m \u001b[1;33m=\u001b[0m \u001b[0mimage\u001b[0m\u001b[1;33m.\u001b[0m\u001b[0mload_img\u001b[0m\u001b[1;33m(\u001b[0m\u001b[0mimg_path\u001b[0m\u001b[1;33m,\u001b[0m \u001b[0mtarget_size\u001b[0m\u001b[1;33m=\u001b[0m\u001b[1;33m(\u001b[0m\u001b[1;36m224\u001b[0m\u001b[1;33m,\u001b[0m \u001b[1;36m224\u001b[0m\u001b[1;33m)\u001b[0m\u001b[1;33m)\u001b[0m\u001b[1;33m\u001b[0m\u001b[1;33m\u001b[0m\u001b[0m\n\u001b[0m\u001b[0;32m      7\u001b[0m \u001b[0mx\u001b[0m \u001b[1;33m=\u001b[0m \u001b[0mimage\u001b[0m\u001b[1;33m.\u001b[0m\u001b[0mimg_to_array\u001b[0m\u001b[1;33m(\u001b[0m\u001b[0mimg\u001b[0m\u001b[1;33m)\u001b[0m\u001b[1;33m\u001b[0m\u001b[1;33m\u001b[0m\u001b[0m\n\u001b[0;32m      8\u001b[0m \u001b[0mx\u001b[0m \u001b[1;33m=\u001b[0m \u001b[0mnp\u001b[0m\u001b[1;33m.\u001b[0m\u001b[0mexpand_dims\u001b[0m\u001b[1;33m(\u001b[0m\u001b[0mx\u001b[0m\u001b[1;33m,\u001b[0m \u001b[0maxis\u001b[0m\u001b[1;33m=\u001b[0m\u001b[1;36m0\u001b[0m\u001b[1;33m)\u001b[0m\u001b[1;33m\u001b[0m\u001b[1;33m\u001b[0m\u001b[0m\n",
      "\u001b[1;32mC:\\Anaconda3\\envs\\tensorflow\\lib\\site-packages\\keras_preprocessing\\image.py\u001b[0m in \u001b[0;36mload_img\u001b[1;34m(path, grayscale, color_mode, target_size, interpolation)\u001b[0m\n\u001b[0;32m    494\u001b[0m         \u001b[0mcolor_mode\u001b[0m \u001b[1;33m=\u001b[0m \u001b[1;34m'grayscale'\u001b[0m\u001b[1;33m\u001b[0m\u001b[1;33m\u001b[0m\u001b[0m\n\u001b[0;32m    495\u001b[0m     \u001b[1;32mif\u001b[0m \u001b[0mpil_image\u001b[0m \u001b[1;32mis\u001b[0m \u001b[1;32mNone\u001b[0m\u001b[1;33m:\u001b[0m\u001b[1;33m\u001b[0m\u001b[1;33m\u001b[0m\u001b[0m\n\u001b[1;32m--> 496\u001b[1;33m         raise ImportError('Could not import PIL.Image. '\n\u001b[0m\u001b[0;32m    497\u001b[0m                           'The use of `array_to_img` requires PIL.')\n\u001b[0;32m    498\u001b[0m     \u001b[0mimg\u001b[0m \u001b[1;33m=\u001b[0m \u001b[0mpil_image\u001b[0m\u001b[1;33m.\u001b[0m\u001b[0mopen\u001b[0m\u001b[1;33m(\u001b[0m\u001b[0mpath\u001b[0m\u001b[1;33m)\u001b[0m\u001b[1;33m\u001b[0m\u001b[1;33m\u001b[0m\u001b[0m\n",
      "\u001b[1;31mImportError\u001b[0m: Could not import PIL.Image. The use of `array_to_img` requires PIL."
     ]
    }
   ],
   "source": [
    "#from keras.preprocessing import image\n",
    "from keras.applications.vgg16 import preprocess_input\n",
    "import numpy as np\n",
    "from PIL import Image\n",
    "img_path = 'C:/Users/Nagaraj G/Desktop/DR_Reference/data/sample/10_left.jpeg'\n",
    "img = image.load_img(img_path, target_size=(224, 224))\n",
    "x = image.img_to_array(img)\n",
    "x = np.expand_dims(x, axis=0)\n",
    "x = preprocess_input(x)\n",
    "\n",
    "print(model.predict(x))"
   ]
  },
  {
   "cell_type": "code",
   "execution_count": 1,
   "metadata": {},
   "outputs": [],
   "source": [
    "import sys\n",
    "from PIL import Image\n",
    "sys.modules['Image'] = Image "
   ]
  },
  {
   "cell_type": "code",
   "execution_count": 3,
   "metadata": {},
   "outputs": [
    {
     "ename": "AttributeError",
     "evalue": "module 'PIL.Image' has no attribute 'load_img'",
     "output_type": "error",
     "traceback": [
      "\u001b[1;31m---------------------------------------------------------------------------\u001b[0m",
      "\u001b[1;31mAttributeError\u001b[0m                            Traceback (most recent call last)",
      "\u001b[1;32m<ipython-input-3-7f6c39278b70>\u001b[0m in \u001b[0;36m<module>\u001b[1;34m\u001b[0m\n\u001b[0;32m      6\u001b[0m \u001b[1;32mfrom\u001b[0m \u001b[0mPIL\u001b[0m \u001b[1;32mimport\u001b[0m \u001b[0mImage\u001b[0m\u001b[1;33m\u001b[0m\u001b[1;33m\u001b[0m\u001b[0m\n\u001b[0;32m      7\u001b[0m \u001b[0mimg_path\u001b[0m \u001b[1;33m=\u001b[0m \u001b[1;34m'C:/Users/Nagaraj G/Desktop/DR_Reference/data/sample/10_left.jpeg'\u001b[0m\u001b[1;33m\u001b[0m\u001b[1;33m\u001b[0m\u001b[0m\n\u001b[1;32m----> 8\u001b[1;33m \u001b[0mimg\u001b[0m \u001b[1;33m=\u001b[0m \u001b[0mImage\u001b[0m\u001b[1;33m.\u001b[0m\u001b[0mload_img\u001b[0m\u001b[1;33m(\u001b[0m\u001b[0mimg_path\u001b[0m\u001b[1;33m,\u001b[0m \u001b[0mtarget_size\u001b[0m\u001b[1;33m=\u001b[0m\u001b[1;33m(\u001b[0m\u001b[1;36m224\u001b[0m\u001b[1;33m,\u001b[0m \u001b[1;36m224\u001b[0m\u001b[1;33m)\u001b[0m\u001b[1;33m)\u001b[0m\u001b[1;33m\u001b[0m\u001b[1;33m\u001b[0m\u001b[0m\n\u001b[0m\u001b[0;32m      9\u001b[0m \u001b[0mx\u001b[0m \u001b[1;33m=\u001b[0m \u001b[0mImage\u001b[0m\u001b[1;33m.\u001b[0m\u001b[0mimg_to_array\u001b[0m\u001b[1;33m(\u001b[0m\u001b[0mimg\u001b[0m\u001b[1;33m)\u001b[0m\u001b[1;33m\u001b[0m\u001b[1;33m\u001b[0m\u001b[0m\n\u001b[0;32m     10\u001b[0m \u001b[0mx\u001b[0m \u001b[1;33m=\u001b[0m \u001b[0mnp\u001b[0m\u001b[1;33m.\u001b[0m\u001b[0mexpand_dims\u001b[0m\u001b[1;33m(\u001b[0m\u001b[0mx\u001b[0m\u001b[1;33m,\u001b[0m \u001b[0maxis\u001b[0m\u001b[1;33m=\u001b[0m\u001b[1;36m0\u001b[0m\u001b[1;33m)\u001b[0m\u001b[1;33m\u001b[0m\u001b[1;33m\u001b[0m\u001b[0m\n",
      "\u001b[1;31mAttributeError\u001b[0m: module 'PIL.Image' has no attribute 'load_img'"
     ]
    }
   ],
   "source": [
    "import sys\n",
    "from PIL import Image\n",
    "sys.modules['Image'] = Image\n",
    "from keras.applications.vgg16 import preprocess_input\n",
    "import numpy as np\n",
    "from PIL import Image\n",
    "img_path = 'C:/Users/Nagaraj G/Desktop/DR_Reference/data/sample/10_left.jpeg'\n",
    "img = Image.load_img(img_path, target_size=(224, 224))\n",
    "x = Image.img_to_array(img)\n",
    "x = np.expand_dims(x, axis=0)\n",
    "x = preprocess_input(x)\n",
    "\n",
    "print(model.predict(x))"
   ]
  },
  {
   "cell_type": "code",
   "execution_count": null,
   "metadata": {},
   "outputs": [],
   "source": [
    "from keras.preprocessing import image\n",
    "from keras.applications.vgg16 import preprocess_input\n",
    "from keras.applications.vgg16 import VGG16\n",
    "import numpy as np\n",
    "from PIL import Image\n",
    "img_path = 'C:/Users/Nagaraj G/Desktop/DR_Reference/data/sample/10_left.jpeg'\n",
    "img = image.load_img(img_path, target_size=(224, 224))\n",
    "x = image.img_to_array(img)\n",
    "x = np.expand_dims(x, axis=0)\n",
    "x = preprocess_input(x)\n",
    "model = VGG16(include_top = True, weights = 'imagenet',classes = 1000)\n",
    "ans = list(model.predict(x))\n",
    "print(\"pred=\",ans)\n",
    "print(\"sum=\",sum(ans))\n",
    "print(\"max=\",max(ans))\n",
    "print(\"class=\",ans.index(max(ans)))\n"
   ]
  },
  {
   "cell_type": "code",
   "execution_count": 15,
   "metadata": {},
   "outputs": [
    {
     "name": "stdout",
     "output_type": "stream",
     "text": [
      "kkkkk 5\n",
      "kkkklllll 2\n",
      "12\n",
      "[1 2 5 4]\n",
      "12\n",
      "2\n"
     ]
    }
   ],
   "source": [
    "x = [1,2,5,4]\n",
    "print(\"kkkkk\",max(np.array(x)))\n",
    "print(\"kkkklllll\",x.index(max(x)))\n",
    "print(sum(x))\n",
    "x = np.array(x)\n",
    "print(x)\n",
    "print(sum(x))\n",
    "print(list(x).index(max(x)))\n"
   ]
  },
  {
   "cell_type": "code",
   "execution_count": 1,
   "metadata": {},
   "outputs": [
    {
     "name": "stderr",
     "output_type": "stream",
     "text": [
      "Using TensorFlow backend.\n"
     ]
    },
    {
     "name": "stdout",
     "output_type": "stream",
     "text": [
      "nparray=  [[0.01764064 0.07085883 0.74939007 0.13803808 0.02407242]]\n",
      "pred= [0.017640637, 0.07085883, 0.74939007, 0.13803808, 0.02407242]\n",
      "sum= 1.0000000353902578\n",
      "max= 0.74939007\n",
      "class= 2\n"
     ]
    }
   ],
   "source": [
    "import numpy as np\n",
    "import keras\n",
    "from keras.preprocessing.image import ImageDataGenerator\n",
    "from keras.models import Model\n",
    "from keras.models import Sequential\n",
    "from keras.layers import Dense, Dropout, Flatten\n",
    "from keras.layers import Conv2D, MaxPooling2D\n",
    "from keras.optimizers import SGD\n",
    "from keras.applications.vgg16 import VGG16\n",
    "from keras.preprocessing import image\n",
    "from keras.applications.vgg16 import preprocess_input\n",
    "\n",
    "img_path = 'C:/Users/Nagaraj G/Desktop/DR_Reference/data/sample/10_left.jpeg'\n",
    "img = image.load_img(img_path, target_size=(224, 224,3))\n",
    "x = image.img_to_array(img)\n",
    "x = np.expand_dims(x, axis=0)\n",
    "x = preprocess_input(x)\n",
    "\n",
    "model = VGG16(include_top = False, weights = 'imagenet',input_shape = (224,224,3))\n",
    "new_model = Sequential()\n",
    "new_model.add(model)\n",
    "new_model.add(Flatten())\n",
    "new_model.add(Dense(units = 16, activation = 'relu', kernel_initializer='uniform'))\n",
    "new_model.add(Dropout(rate = 0.5, noise_shape=None, seed=None))\n",
    "new_model.add(Dense(units = 16, activation = 'relu', kernel_initializer='uniform'))\n",
    "new_model.add(Dropout(rate = 0.5, noise_shape=None, seed=None))              \n",
    "new_model.add(Dense(units = 5))\n",
    "new_model.add(keras.layers.Activation('softmax'))\n",
    "ans = new_model.predict(x)\n",
    "\n",
    "print(\"nparray= \",ans)\n",
    "ans = list(ans[0])\n",
    "print(\"pred=\",ans)\n",
    "print(\"sum=\",sum(ans))\n",
    "print(\"max=\",max(ans))\n",
    "print(\"class=\",ans.index(max(ans)))"
   ]
  },
  {
   "cell_type": "code",
   "execution_count": 13,
   "metadata": {},
   "outputs": [
    {
     "name": "stdout",
     "output_type": "stream",
     "text": [
      "Train on 8 samples, validate on 2 samples\n",
      "Epoch 1/2\n",
      " - 1s - loss: 1.6111 - acc: 0.1250 - val_loss: 1.5630 - val_acc: 0.5000\n",
      "Epoch 2/2\n",
      " - 0s - loss: 1.6306 - acc: 0.3750 - val_loss: 1.5427 - val_acc: 0.5000\n",
      "{'val_loss': [1.5629632472991943, 1.542654037475586], 'val_acc': [0.5, 0.5], 'loss': [1.6110669076442719, 1.6305873692035675], 'acc': [0.125, 0.375]}\n",
      "10/10 [==============================] - 0s 1ms/step\n",
      "loss= 1.601369071006775\n",
      "acc= 0.3\n"
     ]
    }
   ],
   "source": [
    "import numpy as np\n",
    "import keras\n",
    "import os\n",
    "from keras.preprocessing.image import ImageDataGenerator\n",
    "from keras.models import Model\n",
    "from keras.models import Sequential\n",
    "from keras.layers import Dense, Dropout, Flatten\n",
    "from keras.layers import Conv2D, MaxPooling2D\n",
    "from keras.optimizers import SGD\n",
    "from keras.applications.vgg16 import VGG16\n",
    "from keras.preprocessing import image\n",
    "from keras.applications.vgg16 import preprocess_input\n",
    "\"\"\"\n",
    "path = 'C:/Users/Nagaraj G/Desktop/DR_Reference/data/sample/'\n",
    "img_name = os.listdir(path)\n",
    "img_arr = []\n",
    "for img in img_name:\n",
    "    x = image.load_img(path+img, target_size=(224, 224,3))\n",
    "    x = image.img_to_array(x)\n",
    "    x = np.expand_dims(x, axis=0)\n",
    "    x = preprocess_input(x)\n",
    "    img_arr.append(x)\n",
    "\n",
    "img_arr = np.array(img_arr)\n",
    "labels = np.transpose(np.array([2,3,1,4,5,1,2,5,3,4]))\n",
    "\"\"\"\n",
    "x_train = np.random.random((10, 224, 224, 3))\n",
    "y_train = keras.utils.to_categorical(np.random.randint(5, size=(10, 1)), num_classes=5)\n",
    "model = VGG16(include_top = False, weights = 'imagenet',input_shape = (224,224,3))\n",
    "flatten_model = Sequential()\n",
    "flatten_model.add(model)\n",
    "flatten_model.add(Flatten())\n",
    "\n",
    "features_input = flatten_model.predict(x_train)\n",
    "\n",
    "new_model = Sequential()\n",
    "new_model.add(Dense(units = 8, activation = 'relu', kernel_initializer='uniform'))\n",
    "new_model.add(Dropout(rate = 0.5, noise_shape=None, seed=None))\n",
    "new_model.add(Dense(units = 8, activation = 'relu', kernel_initializer='uniform'))\n",
    "new_model.add(Dropout(rate = 0.5, noise_shape=None, seed=None))              \n",
    "new_model.add(Dense(units = 5))\n",
    "new_model.add(keras.layers.Activation('softmax'))\n",
    "sgd = SGD(lr=0.001, decay=0.0, momentum=0.9,nesterov=True)\n",
    "new_model.compile(loss = 'categorical_crossentropy', optimizer = sgd, metrics=['accuracy'] )\n",
    "\n",
    "training_history = new_model.fit(x = features_input, y = y_train, batch_size = 2, epochs = 2, verbose = 2, validation_split = 0.2)\n",
    "print(training_history.history)\n",
    "\n",
    "loss , accuracy = new_model.evaluate(x = features_input, y = y_train, batch_size= 2, verbose=1)\n",
    "print(\"loss=\",loss)\n",
    "print(\"acc=\",accuracy)"
   ]
  },
  {
   "cell_type": "code",
   "execution_count": 7,
   "metadata": {},
   "outputs": [
    {
     "name": "stdout",
     "output_type": "stream",
     "text": [
      "['10_left.jpeg', '10_right.jpeg', '13_left.jpeg', '13_right.jpeg', '15_left.jpeg', '15_right.jpeg', '16_left.jpeg', '16_right.jpeg', '17_left.jpeg', '17_right.jpeg']\n"
     ]
    }
   ],
   "source": [
    "import os\n",
    "img_list = os.listdir('C:/Users/Nagaraj G/Desktop/DR_Reference/data/sample/')\n",
    "print(img_list)"
   ]
  },
  {
   "cell_type": "code",
   "execution_count": 23,
   "metadata": {},
   "outputs": [
    {
     "name": "stdout",
     "output_type": "stream",
     "text": [
      "Train on 8 samples, validate on 2 samples\n",
      "Epoch 1/2\n",
      " - 7s - loss: 2.9052 - acc: 0.2500 - val_loss: 2.8423 - val_acc: 0.5000\n",
      "Epoch 2/2\n",
      " - 0s - loss: 3.2456 - acc: 0.1250 - val_loss: 7.4204 - val_acc: 0.5000\n",
      "{'val_loss': [2.842301845550537, 7.420437812805176], 'val_acc': [0.5, 0.5], 'loss': [2.905191272497177, 3.2456298172473907], 'acc': [0.25, 0.125]}\n",
      "10/10 [==============================] - 0s 3ms/step\n",
      "loss= 6.289057278633118\n",
      "acc= 0.3\n"
     ]
    }
   ],
   "source": [
    "import numpy as np\n",
    "import keras\n",
    "import os\n",
    "from keras.preprocessing.image import ImageDataGenerator\n",
    "from keras.models import Model\n",
    "from keras.models import Sequential\n",
    "from keras.layers import Dense, Dropout, Flatten\n",
    "from keras.layers import Conv2D, MaxPooling2D\n",
    "from keras.optimizers import SGD\n",
    "from keras.applications.vgg16 import VGG16\n",
    "from keras.preprocessing import image\n",
    "from keras.applications.vgg16 import preprocess_input\n",
    "\n",
    "path = 'C:/Users/Nagaraj G/Desktop/DR_Reference/data/sample/'\n",
    "img_name = os.listdir(path)\n",
    "img_arr = np.zeros(shape=(10,224,224,3))\n",
    "i = 0\n",
    "for img in img_name:\n",
    "    x = image.load_img(path+img, target_size=(224, 224,3))\n",
    "    x = image.img_to_array(x)\n",
    "    x = np.expand_dims(x, axis=0)\n",
    "    x = preprocess_input(x)\n",
    "    img_arr[i] = x\n",
    "    i+=1\n",
    "    \n",
    "labels = keras.utils.to_categorical(np.random.randint(5, size=(10, 1)), num_classes=5)\n",
    "model = VGG16(include_top = False, weights = 'imagenet',input_shape = (224,224,3))\n",
    "flatten_model = Sequential()\n",
    "flatten_model.add(model)\n",
    "flatten_model.add(Flatten())\n",
    "\n",
    "features_input = flatten_model.predict(img_arr)\n",
    "\n",
    "new_model = Sequential()\n",
    "new_model.add(Dense(units = 8, activation = 'relu', kernel_initializer='uniform'))\n",
    "new_model.add(Dropout(rate = 0.5, noise_shape=None, seed=None))\n",
    "new_model.add(Dense(units = 8, activation = 'relu', kernel_initializer='uniform'))\n",
    "new_model.add(Dropout(rate = 0.5, noise_shape=None, seed=None))              \n",
    "new_model.add(Dense(units = 5))\n",
    "new_model.add(keras.layers.Activation('softmax'))\n",
    "\n",
    "sgd = SGD(lr=0.001, decay=0.0, momentum=0.9,nesterov=True)\n",
    "new_model.compile(loss = 'categorical_crossentropy', optimizer = sgd, metrics=['accuracy'] )\n",
    "\n",
    "training_history = new_model.fit(x = features_input, y = labels, batch_size = 2, epochs = 2, verbose = 2, validation_split = 0.2)\n",
    "print(training_history.history)\n",
    "\n",
    "#Testing\n",
    "#return accuracy for the test data with trained weights\n",
    "loss , accuracy = new_model.evaluate(x = features_input, y = labels, batch_size= 2, verbose=1)\n",
    "print(\"loss=\",loss)\n",
    "print(\"acc=\",accuracy)"
   ]
  },
  {
   "cell_type": "code",
   "execution_count": 4,
   "metadata": {},
   "outputs": [
    {
     "name": "stdout",
     "output_type": "stream",
     "text": [
      "(10, 1000)\n",
      "[[ True  True  True ...  True  True  True]\n",
      " [ True  True  True ...  True  True  True]\n",
      " [ True  True  True ...  True  True  True]\n",
      " ...\n",
      " [ True  True  True ...  True  True  True]\n",
      " [ True  True  True ...  True  True  True]\n",
      " [ True  True  True ...  True  True  True]]\n"
     ]
    }
   ],
   "source": [
    "import numpy as np\n",
    "z = np.zeros(shape=(10,1000))\n",
    "print(z.shape)\n",
    "np.save(\"imagedata\",z)\n",
    "a = np.load(\"imagedata.npy\")\n",
    "print(z == a)"
   ]
  },
  {
   "cell_type": "code",
   "execution_count": 5,
   "metadata": {},
   "outputs": [
    {
     "name": "stdout",
     "output_type": "stream",
     "text": [
      "1960000.0\n"
     ]
    }
   ],
   "source": [
    "print(4*7*7*512*20000/1024)"
   ]
  },
  {
   "cell_type": "code",
   "execution_count": 7,
   "metadata": {},
   "outputs": [
    {
     "name": "stdout",
     "output_type": "stream",
     "text": [
      "Extracted features shape  (10, 25088)\n",
      "[[ True  True  True ...  True  True  True]\n",
      " [ True  True  True ...  True  True  True]\n",
      " [ True  True  True ...  True  True  True]\n",
      " ...\n",
      " [ True  True  True ...  True  True  True]\n",
      " [ True  True  True ...  True  True  True]\n",
      " [ True  True  True ...  True  True  True]]\n"
     ]
    }
   ],
   "source": [
    "import numpy as np\n",
    "import os\n",
    "import keras\n",
    "from keras.preprocessing.image import ImageDataGenerator\n",
    "from keras.models import Model\n",
    "from keras.models import Sequential\n",
    "from keras.layers import Dense, Dropout, Flatten\n",
    "from keras.layers import Conv2D, MaxPooling2D\n",
    "from keras.optimizers import SGD\n",
    "from keras.applications.vgg16 import VGG16\n",
    "from keras.preprocessing import image\n",
    "from keras.applications.vgg16 import preprocess_input\n",
    "\n",
    "path = 'C:/Users/Nagaraj G/Desktop/DR_Reference/data/sample/'\n",
    "img_name = os.listdir(path)\n",
    "img_arr = np.zeros(shape=(10,224,224,3))\n",
    "i = 0\n",
    "for img in img_name:\n",
    "    x = image.load_img(path+img, target_size=(224, 224,3))\n",
    "    x = image.img_to_array(x)\n",
    "    x = np.expand_dims(x, axis=0)\n",
    "    x = preprocess_input(x)\n",
    "    img_arr[i] = x\n",
    "    i+=1\n",
    "    \n",
    "labels = keras.utils.to_categorical(np.random.randint(5, size=(10, 1)), num_classes=5)\n",
    "model = VGG16(include_top = False, weights = 'imagenet',input_shape = (224,224,3))\n",
    "flatten_model = Sequential()\n",
    "flatten_model.add(model)\n",
    "flatten_model.add(Flatten())\n",
    "\n",
    "features_input = flatten_model.predict(img_arr)\n",
    "print(\"Extracted features shape \",features_input.shape)\n",
    "np.save(\"imagedata\",features_input)\n",
    "reloaded_input = np.load(\"imagedata.npy\")\n",
    "print(features_input == reloaded_input)\n"
   ]
  },
  {
   "cell_type": "code",
   "execution_count": 9,
   "metadata": {},
   "outputs": [
    {
     "name": "stdout",
     "output_type": "stream",
     "text": [
      "Train on 8 samples, validate on 2 samples\n",
      "Epoch 1/2\n",
      " - 5s - loss: 2.8176 - acc: 0.0000e+00 - val_loss: 1.5690 - val_acc: 0.0000e+00\n",
      "Epoch 2/2\n",
      " - 0s - loss: 1.6066 - acc: 0.1250 - val_loss: 1.7407 - val_acc: 0.0000e+00\n",
      "{'val_loss': [1.568955898284912, 1.7406628131866455], 'val_acc': [0.0, 0.0], 'loss': [2.8176134526729584, 1.6066253185272217], 'acc': [0.0, 0.125]}\n",
      "10/10 [==============================] - 0s 9ms/step\n",
      "evaluation result =  [1.8857038021087646, 0.2]\n"
     ]
    }
   ],
   "source": [
    "import numpy as np\n",
    "import keras\n",
    "import os\n",
    "from keras.preprocessing.image import ImageDataGenerator\n",
    "from keras.models import Model\n",
    "from keras.models import Sequential, load_model\n",
    "from keras.layers import Dense, Dropout, Flatten\n",
    "from keras.layers import Conv2D, MaxPooling2D\n",
    "from keras.optimizers import SGD\n",
    "from keras.applications.vgg16 import VGG16\n",
    "from keras.preprocessing import image\n",
    "from keras.applications.vgg16 import preprocess_input\n",
    "\n",
    "path = 'C:/Users/Nagaraj G/Desktop/DR_Reference/data/sample/'\n",
    "img_name = os.listdir(path)\n",
    "img_arr = np.zeros(shape=(10,224,224,3))\n",
    "i = 0\n",
    "for img in img_name:\n",
    "    x = image.load_img(path+img, target_size=(224, 224,3))\n",
    "    x = image.img_to_array(x)\n",
    "    x = np.expand_dims(x, axis=0)\n",
    "    x = preprocess_input(x)\n",
    "    img_arr[i] = x\n",
    "    i+=1\n",
    "    \n",
    "labels = keras.utils.to_categorical(np.random.randint(5, size=(10, 1)), num_classes=5)\n",
    "model = VGG16(include_top = False, weights = 'imagenet',input_shape = (224,224,3))\n",
    "flatten_model = Sequential()\n",
    "flatten_model.add(model)\n",
    "flatten_model.add(Flatten())\n",
    "\n",
    "features_input = flatten_model.predict(img_arr)\n",
    "\n",
    "\n",
    "new_model = Sequential()\n",
    "new_model.add(Dense(units = 8, activation = 'relu', kernel_initializer='uniform'))\n",
    "new_model.add(Dropout(rate = 0.5, noise_shape=None, seed=None))\n",
    "new_model.add(Dense(units = 8, activation = 'relu', kernel_initializer='uniform'))\n",
    "new_model.add(Dropout(rate = 0.5, noise_shape=None, seed=None))              \n",
    "new_model.add(Dense(units = 5))\n",
    "new_model.add(keras.layers.Activation('softmax'))\n",
    "\n",
    "sgd = SGD(lr=0.001, decay=0.0, momentum=0.9,nesterov=True)\n",
    "new_model.compile(loss = 'categorical_crossentropy', optimizer = sgd, metrics=['accuracy'] )\n",
    "\n",
    "training_history = new_model.fit(x = features_input, y = labels, batch_size = 2, epochs = 2, verbose = 2, validation_split = 0.2)\n",
    "print(training_history.history)\n",
    "\n",
    "new_model.save('my_model.h5')  # creates a HDF5 file 'my_model.h5'\n",
    "del new_model  # deletes the existing model\n",
    "\n",
    "# returns a compiled model\n",
    "# identical to the previous one\n",
    "new_model = load_model('my_model.h5')\n",
    "\n",
    "evaluation_result = new_model.evaluate(x = features_input, y = labels, batch_size= 2, verbose=1)\n",
    "print(\"evaluation result = \",evaluation_result)"
   ]
  },
  {
   "cell_type": "code",
   "execution_count": 10,
   "metadata": {},
   "outputs": [
    {
     "name": "stdout",
     "output_type": "stream",
     "text": [
      "Train on 8 samples, validate on 2 samples\n",
      "Epoch 1/2\n",
      " - 5s - loss: 2.5895 - acc: 0.1250 - val_loss: 2.2663 - val_acc: 0.0000e+00\n",
      "Epoch 2/2\n",
      " - 0s - loss: 5.7264 - acc: 0.2500 - val_loss: 10.1087 - val_acc: 0.0000e+00\n",
      "{'val_loss': [2.266252040863037, 10.108671188354492], 'val_acc': [0.0, 0.0], 'loss': [2.589465707540512, 5.726438015699387], 'acc': [0.125, 0.25]}\n",
      "10/10 [==============================] - 0s 13ms/step\n",
      "evaluation result =  [5.4822125911712645, 0.2]\n"
     ]
    }
   ],
   "source": [
    "import numpy as np\n",
    "import keras\n",
    "import os\n",
    "from keras.preprocessing.image import ImageDataGenerator\n",
    "from keras.models import Model\n",
    "from keras.models import Sequential, load_model\n",
    "from keras.layers import Dense, Dropout, Flatten\n",
    "from keras.layers import Conv2D, MaxPooling2D\n",
    "from keras.optimizers import SGD\n",
    "from keras.applications.vgg16 import VGG16\n",
    "from keras.preprocessing import image\n",
    "from keras.applications.vgg16 import preprocess_input\n",
    "\n",
    "path = 'C:/Users/Nagaraj G/Desktop/DR_Reference/data/sample/'\n",
    "img_name = os.listdir(path)\n",
    "img_arr = np.zeros(shape=(10,224,224,3))\n",
    "i = 0\n",
    "for img in img_name:\n",
    "    x = image.load_img(path+img, target_size=(224, 224,3))\n",
    "    x = image.img_to_array(x)\n",
    "    x = np.expand_dims(x, axis=0)\n",
    "    x = preprocess_input(x)\n",
    "    img_arr[i] = x\n",
    "    i+=1\n",
    "    \n",
    "labels = keras.utils.to_categorical(np.random.randint(5, size=(10, 1)), num_classes=5)\n",
    "model = VGG16(include_top = False, weights = 'imagenet',input_shape = (224,224,3))\n",
    "flatten_model = Sequential()\n",
    "flatten_model.add(model)\n",
    "flatten_model.add(Flatten())\n",
    "\n",
    "features_input = flatten_model.predict(img_arr)\n",
    "\n",
    "\n",
    "new_model = Sequential()\n",
    "new_model.add(Dense(units = 8, activation = 'relu', kernel_initializer='uniform'))\n",
    "new_model.add(Dropout(rate = 0.5, noise_shape=None, seed=None))\n",
    "new_model.add(Dense(units = 8, activation = 'relu', kernel_initializer='uniform'))\n",
    "new_model.add(Dropout(rate = 0.5, noise_shape=None, seed=None))              \n",
    "new_model.add(Dense(units = 5))\n",
    "new_model.add(keras.layers.Activation('softmax'))\n",
    "\n",
    "sgd = SGD(lr=0.001, decay=0.0, momentum=0.9,nesterov=True)\n",
    "new_model.compile(loss = 'categorical_crossentropy', optimizer = sgd, metrics=['accuracy'] )\n",
    "\n",
    "training_history = new_model.fit(x = features_input, y = labels, batch_size = 2, epochs = 2, verbose = 2, validation_split = 0.2)\n",
    "print(training_history.history)\n",
    "\n",
    "new_model.save('my_model.h5')  # creates a HDF5 file 'my_model.h5'\n",
    "new_model.save_weights('my_model_weights.h5')\n",
    "new_model.load_weights('my_model_weights.h5')\n",
    "del new_model  # deletes the existing model\n",
    "# returns a compiled model\n",
    "# identical to the previous one\n",
    "new_model = load_model('my_model.h5')\n",
    "\n",
    "evaluation_result = new_model.evaluate(x = features_input, y = labels, batch_size= 2, verbose=1)\n",
    "print(\"evaluation result = \",evaluation_result)\n"
   ]
  },
  {
   "cell_type": "code",
   "execution_count": 1,
   "metadata": {},
   "outputs": [
    {
     "name": "stderr",
     "output_type": "stream",
     "text": [
      "Using TensorFlow backend.\n"
     ]
    },
    {
     "name": "stdout",
     "output_type": "stream",
     "text": [
      "Extracted features shape  (10, 25088)\n"
     ]
    }
   ],
   "source": [
    "#Extraction of features from freezed (non-trainable) CNN layers\n",
    "\n",
    "#import keras,numpy,os libraries\n",
    "\n",
    "import numpy as np\n",
    "import keras\n",
    "import os\n",
    "from keras.preprocessing.image import ImageDataGenerator\n",
    "from keras.models import Model\n",
    "from keras.models import Sequential, load_model\n",
    "from keras.layers import Dense, Dropout, Flatten\n",
    "from keras.layers import Conv2D, MaxPooling2D\n",
    "from keras.optimizers import SGD\n",
    "from keras.applications.vgg16 import VGG16\n",
    "from keras.preprocessing import image\n",
    "from keras.applications.vgg16 import preprocess_input\n",
    "\n",
    "#reading images from specified path,converting it to numpy array with images size of (224,224,3)\n",
    "path = 'C:/Users/Nagaraj G/Desktop/DR_Reference/data/sample/'\n",
    "img_name = os.listdir(path)\n",
    "img_arr = np.zeros(shape=(10,224,224,3))\n",
    "i = 0\n",
    "for img in img_name:\n",
    "    x = image.load_img(path+img, target_size=(224, 224,3))\n",
    "    x = image.img_to_array(x)\n",
    "    x = np.expand_dims(x, axis=0)\n",
    "    x = preprocess_input(x)\n",
    "    img_arr[i] = x\n",
    "    i+=1\n",
    "\n",
    "#loading weights without fc and softmax layers for Transfer learning.\n",
    "model = VGG16(include_top = False, weights = 'imagenet',input_shape = (224,224,3))\n",
    "flatten_model = Sequential()\n",
    "flatten_model.add(model)\n",
    "#flatten the last max pool layer outputs (last CNN layer output)\n",
    "flatten_model.add(Flatten())\n",
    "\n",
    "#extract features (convolutional autoencoder)\n",
    "features_input = flatten_model.predict(img_arr)\n",
    "#saving CNN outputs in a local file on disk to load later\n",
    "print(\"Extracted features shape \",features_input.shape)\n",
    "np.save(\"imagedata\",features_input)"
   ]
  },
  {
   "cell_type": "code",
   "execution_count": 13,
   "metadata": {},
   "outputs": [
    {
     "name": "stdout",
     "output_type": "stream",
     "text": [
      "Train on 8 samples, validate on 2 samples\n",
      "Epoch 1/2\n",
      " - 1s - loss: 2.5528 - acc: 0.2500 - val_loss: 1.8516 - val_acc: 0.0000e+00\n",
      "Epoch 2/2\n",
      " - 0s - loss: 1.6699 - acc: 0.3750 - val_loss: 1.8888 - val_acc: 0.0000e+00\n",
      "{'val_loss': [1.8515524864196777, 1.888837218284607], 'val_acc': [0.0, 0.0], 'loss': [2.5527948141098022, 1.669904351234436], 'acc': [0.25, 0.375]}\n",
      "10/10 [==============================] - 0s 3ms/step\n",
      "loss= 1.7325010895729065\n",
      "acc= 0.3\n"
     ]
    }
   ],
   "source": [
    "#Training classifier network\n",
    "\n",
    "#import keras,numpy,os libraries\n",
    "import numpy as np\n",
    "import keras\n",
    "import os\n",
    "from keras.preprocessing.image import ImageDataGenerator\n",
    "from keras.models import Model\n",
    "from keras.models import Sequential, load_model\n",
    "from keras.layers import Dense, Dropout, Flatten\n",
    "from keras.layers import Conv2D, MaxPooling2D\n",
    "from keras.optimizers import SGD\n",
    "from keras.applications.vgg16 import VGG16\n",
    "\n",
    "#reloading CNN outputs compressed image data  from file\n",
    "features_input = np.load(\"imagedata.npy\")\n",
    "\n",
    "#Converting labels to categorial one hot encoding\n",
    "labels = keras.utils.to_categorical(np.random.randint(5, size=(10, 1)), num_classes=5)\n",
    "\n",
    "#Adding classifier neural network (Dense + Softmax)\n",
    "new_model = Sequential()\n",
    "#add a fc1 layer with 8 output neurons and a dropout layer1\n",
    "new_model.add(Dense(units = 8, activation = 'relu', kernel_initializer='uniform'))\n",
    "new_model.add(Dropout(rate = 0.5, noise_shape=None, seed=None))\n",
    "#add a fc2 layer with 8 output neurons and a dropout layer2\n",
    "new_model.add(Dense(units = 8, activation = 'relu', kernel_initializer='uniform'))\n",
    "new_model.add(Dropout(rate = 0.5, noise_shape=None, seed=None))\n",
    "#adding a softmax layer with 5 classes\n",
    "new_model.add(Dense(units = 5))\n",
    "new_model.add(keras.layers.Activation('softmax'))\n",
    "#configures the model for training\n",
    "sgd = SGD(lr=0.001, decay=0.0, momentum=0.9,nesterov=True)\n",
    "new_model.compile(loss = 'categorical_crossentropy', optimizer = sgd, metrics=['accuracy'] )\n",
    "\n",
    "#train the model for given number of epochs\n",
    "training_history = {}\n",
    "try:\n",
    "    training_history = new_model.fit(x = features_input, y = labels, batch_size = 2, epochs = 2, verbose = 2, validation_split = 0.2)\n",
    "except Exception as error:\n",
    "    print(error)\n",
    "finally:\n",
    "    print(training_history.history)  #validation accuracy and loss, training accuracy and loss\n",
    "    new_model.save('my_model.h5')  # creates a HDF5 file 'my_model.h5'\n",
    "    new_model.save_weights('my_model_weights.h5') #creates a HDF5 'my_model_weights.h5' weight file\n",
    "#End of training and va;idation   \n",
    "\n",
    "#Testing\n",
    "#return accuracy for the test data with trained weights\n",
    "try:\n",
    "    loss , accuracy = new_model.evaluate(x = features_input, y = labels, batch_size= 2, verbose=1)\n",
    "except Exception as error:\n",
    "    print(error)\n",
    "finally:\n",
    "    print(\"loss=\",loss)\n",
    "    print(\"acc=\",accuracy)\n"
   ]
  },
  {
   "cell_type": "code",
   "execution_count": 6,
   "metadata": {},
   "outputs": [
    {
     "name": "stdout",
     "output_type": "stream",
     "text": [
      "Prediction =  [[0.04260045 0.12288517 0.1491383  0.67477304 0.01060303]]\n",
      "sum of predictions = 0.9999999916180968\n",
      "max prediction value= 0.67477304\n",
      "class the image predicted to = 3\n"
     ]
    }
   ],
   "source": [
    "#prediction of new images from trained model\n",
    "\n",
    "#import keras,numpy,os libraries\n",
    "import numpy as np\n",
    "import keras\n",
    "import os\n",
    "from keras.preprocessing.image import ImageDataGenerator\n",
    "from keras.models import Model\n",
    "from keras.models import Sequential, load_model\n",
    "from keras.layers import Dense, Dropout, Flatten\n",
    "from keras.layers import Conv2D, MaxPooling2D\n",
    "from keras.optimizers import SGD\n",
    "from keras.applications.vgg16 import VGG16\n",
    "\n",
    "img_path = 'C:/Users/Nagaraj G/Desktop/DR_Reference/data/sample/10_left.jpeg'\n",
    "img_arr =  np.zeros(shape=(1,224,224,3))\n",
    "img = image.load_img(img_path, target_size=(224, 224,3))\n",
    "x = image.img_to_array(img)\n",
    "x = np.expand_dims(x, axis=0)\n",
    "x = preprocess_input(x)\n",
    "img_arr[0] = x\n",
    "\n",
    "#Extract the features from image needed for classifier neural net\n",
    "model = VGG16(include_top = False, weights = 'imagenet',input_shape = (224,224,3))\n",
    "flatten_model = Sequential()\n",
    "flatten_model.add(model)\n",
    "flatten_model.add(Flatten())\n",
    "features_input = flatten_model.predict(img_arr)\n",
    "\n",
    "trainedModel = load_model('my_model.h5')\n",
    "ans = trainedModel.predict(features_input)\n",
    "\n",
    "print(\"Prediction = \",ans)\n",
    "ans = list(ans[0])\n",
    "print(\"sum of predictions =\",sum(ans))\n",
    "print(\"max prediction value=\",max(ans))\n",
    "print(\"class the image predicted to =\",ans.index(max(ans)))\n",
    "\n"
   ]
  },
  {
   "cell_type": "code",
   "execution_count": 9,
   "metadata": {},
   "outputs": [
    {
     "data": {
      "image/png": "[encoded data removed]",
      "text/plain": [
       "<Figure size 432x288 with 1 Axes>"
      ]
     },
     "metadata": {
      "needs_background": "light"
     },
     "output_type": "display_data"
    }
   ],
   "source": [
    "from matplotlib import pyplot as plt\n",
    "\n",
    "val_acc = [78.7320921421051025, 82.0478668212890625]\n",
    "acc = [64.53234,78.7765433]\n",
    "plt.plot(val_acc)\n",
    "plt.plot(acc)\n",
    "plt.title('Model Accuracy')\n",
    "plt.ylabel('Accuracy')\n",
    "plt.xlabel('epoch')\n",
    "plt.legend(['train', 'test'], loc='upper left')\n",
    "plt.show()"
   ]
  },
  {
   "cell_type": "code",
   "execution_count": 14,
   "metadata": {},
   "outputs": [
    {
     "name": "stdout",
     "output_type": "stream",
     "text": [
      "Train on 8 samples, validate on 2 samples\n",
      "Epoch 1/10\n",
      " - 1s - loss: 5.0267 - acc: 0.2500 - val_loss: 6.6633 - val_acc: 0.0000e+00\n",
      "Epoch 2/10\n",
      " - 0s - loss: 4.4667 - acc: 0.2500 - val_loss: 8.0672 - val_acc: 0.5000\n",
      "Epoch 3/10\n",
      " - 0s - loss: 8.8624 - acc: 0.2500 - val_loss: 8.0590 - val_acc: 0.5000\n",
      "Epoch 4/10\n",
      " - 0s - loss: 4.4283 - acc: 0.1250 - val_loss: 8.0590 - val_acc: 0.5000\n",
      "Epoch 5/10\n",
      " - 0s - loss: 3.0212 - acc: 0.2500 - val_loss: 8.0590 - val_acc: 0.5000\n",
      "Epoch 6/10\n",
      " - 0s - loss: 3.4175 - acc: 0.2500 - val_loss: 8.0590 - val_acc: 0.5000\n",
      "Epoch 7/10\n",
      " - 0s - loss: 4.8324 - acc: 0.2500 - val_loss: 8.0590 - val_acc: 0.5000\n",
      "Epoch 8/10\n",
      " - 0s - loss: 3.2159 - acc: 0.2500 - val_loss: 8.0590 - val_acc: 0.5000\n",
      "Epoch 9/10\n",
      " - 0s - loss: 6.8444 - acc: 0.2500 - val_loss: 8.0590 - val_acc: 0.5000\n",
      "Epoch 10/10\n",
      " - 0s - loss: 1.5969 - acc: 0.2500 - val_loss: 8.0590 - val_acc: 0.5000\n",
      "{'val_loss': [6.6633100509643555, 8.067163467407227, 8.05904769897461, 8.05904769897461, 8.05904769897461, 8.05904769897461, 8.05904769897461, 8.05904769897461, 8.05904769897461, 8.05904769897461], 'val_acc': [0.0, 0.5, 0.5, 0.5, 0.5, 0.5, 0.5, 0.5, 0.5, 0.5], 'loss': [5.026704788208008, 4.4666872918605804, 8.862386703491211, 4.428269624710083, 3.021209806203842, 3.4175136983394623, 4.832353740930557, 3.2158835530281067, 6.844359397888184, 1.5968590676784515], 'acc': [0.25, 0.25, 0.25, 0.125, 0.25, 0.25, 0.25, 0.25, 0.25, 0.25]}\n"
     ]
    },
    {
     "data": {
      "image/png": "[encoded data removed]",
      "text/plain": [
       "<Figure size 432x288 with 1 Axes>"
      ]
     },
     "metadata": {
      "needs_background": "light"
     },
     "output_type": "display_data"
    },
    {
     "data": {
      "image/png": "[encoded data removed]",
      "text/plain": [
       "<Figure size 432x288 with 1 Axes>"
      ]
     },
     "metadata": {
      "needs_background": "light"
     },
     "output_type": "display_data"
    },
    {
     "name": "stdout",
     "output_type": "stream",
     "text": [
      "10/10 [==============================] - 0s 780us/step\n",
      "loss= 11.282666778564453\n",
      "acc= 0.3\n"
     ]
    }
   ],
   "source": [
    "#prediction of new images from trained model\n",
    "\n",
    "#import keras,numpy,os, matplotlib libraries\n",
    "import numpy as np\n",
    "import keras\n",
    "import os\n",
    "from matplotlib import pyplot as plt\n",
    "from keras.preprocessing.image import ImageDataGenerator\n",
    "from keras.models import Model\n",
    "from keras.models import Sequential, load_model\n",
    "from keras.layers import Dense, Dropout, Flatten\n",
    "from keras.layers import Conv2D, MaxPooling2D\n",
    "from keras.optimizers import SGD\n",
    "from keras.applications.vgg16 import VGG16\n",
    "\n",
    "#reloading CNN outputs compressed image data  from file\n",
    "features_input = np.load(\"imagedata.npy\")\n",
    "\n",
    "#Converting labels to categorial one hot encoding\n",
    "labels = keras.utils.to_categorical(np.random.randint(5, size=(10, 1)), num_classes=5)\n",
    "\n",
    "#Adding classifier neural network (Dense + Softmax)\n",
    "new_model = Sequential()\n",
    "#add a fc1 layer with 8 output neurons and a dropout layer1\n",
    "new_model.add(Dense(units = 8, activation = 'relu', kernel_initializer='uniform'))\n",
    "new_model.add(Dropout(rate = 0.5, noise_shape=None, seed=None))\n",
    "#add a fc2 layer with 8 output neurons and a dropout layer2\n",
    "new_model.add(Dense(units = 8, activation = 'relu', kernel_initializer='uniform'))\n",
    "new_model.add(Dropout(rate = 0.5, noise_shape=None, seed=None))\n",
    "#adding a softmax layer with 5 classes\n",
    "new_model.add(Dense(units = 5))\n",
    "new_model.add(keras.layers.Activation('softmax'))\n",
    "#configures the model for training\n",
    "sgd = SGD(lr=0.001, decay=0.0, momentum=0.9,nesterov=True)\n",
    "new_model.compile(loss = 'categorical_crossentropy', optimizer = sgd, metrics=['accuracy'] )\n",
    "\n",
    "#train the model for given number of epochs\n",
    "training_history = {}\n",
    "try:\n",
    "    training_history = new_model.fit(x = features_input, y = labels, batch_size = 2, epochs = 10, verbose = 2, validation_split = 0.2)\n",
    "except Exception as error:\n",
    "    print(error)\n",
    "finally:\n",
    "    print(training_history.history)  #validation accuracy and loss, training accuracy and loss\n",
    "    new_model.save('my_model.h5')  # creates a HDF5 file 'my_model.h5'\n",
    "    new_model.save_weights('my_model_weights.h5') #creates a HDF5 'my_model_weights.h5' weight file\n",
    "#End of training and va;idation   \n",
    "\n",
    "#plotting accuracy of training and validation\n",
    "plt.plot(training_history.history['acc'])\n",
    "plt.plot(training_history.history['val_acc'])\n",
    "plt.title('Model Accuracy')\n",
    "plt.ylabel('Accuracy')\n",
    "plt.xlabel('epoch')\n",
    "plt.legend(['train', 'test'], loc='upper left')\n",
    "plt.show()\n",
    "\n",
    "#plotting loss of training and validation\n",
    "plt.plot(training_history.history['loss'])\n",
    "plt.plot(training_history.history['val_loss'])\n",
    "plt.title('Model Loss')\n",
    "plt.ylabel('Loss')\n",
    "plt.xlabel('epoch')\n",
    "plt.legend(['train', 'test'], loc='upper left')\n",
    "plt.show()\n",
    "\n",
    "#Testing\n",
    "#return accuracy for the test data with trained weights\n",
    "try:\n",
    "    loss , accuracy = new_model.evaluate(x = features_input, y = labels, batch_size= 2, verbose=1)\n",
    "except Exception as error:\n",
    "    print(error)\n",
    "finally:\n",
    "    print(\"loss=\",loss)\n",
    "    print(\"acc=\",accuracy)\n"
   ]
  }
 ],
 "metadata": {
  "kernelspec": {
   "display_name": "Python 3",
   "language": "python",
   "name": "python3"
  },
  "language_info": {
   "codemirror_mode": {
    "name": "ipython",
    "version": 3
   },
   "file_extension": ".py",
   "mimetype": "text/x-python",
   "name": "python",
   "nbconvert_exporter": "python",
   "pygments_lexer": "ipython3",
   "version": "3.6.8"
  }
 },
 "nbformat": 4,
 "nbformat_minor": 2
}
